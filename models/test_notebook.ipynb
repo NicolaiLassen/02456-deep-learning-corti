{
 "cells": [
  {
   "cell_type": "code",
   "execution_count": 2,
   "metadata": {},
   "outputs": [],
   "source": [
    "import torch.nn as nn\n",
    "import torch.nn.functional as F\n",
    "import torchaudio\n",
    "import torch"
   ]
  },
  {
   "cell_type": "code",
   "execution_count": 50,
   "metadata": {},
   "outputs": [],
   "source": [
    "class Wav2vec(nn.Module):\n",
    "\n",
    "    def __init__(self):\n",
    "        super(Wav2vec, self).__init__()\n",
    "        # 1 input image channel, 6 output channels, 3x3 square convolution\n",
    "        # kernel\n",
    "        activation = nn.ReLU()\n",
    "        dropout = 0.0\n",
    "        self.encoder = Encoder()\n",
    "\n",
    "    def forward(self, x):\n",
    "        z = self.encoder(x)\n",
    "        #c = self.context(x)\n",
    "        # x = x.view(-1, self.num_flat_features(x))\n",
    "        return z#, c\n",
    "    \n",
    "class Encoder(nn.Module):\n",
    "    def __init__(self):\n",
    "        super(Encoder, self).__init__()\n",
    "        dropout=0.0\n",
    "        self.in_c = 10\n",
    "        activation = nn.ReLU()\n",
    "        self.encoder = nn.Sequential(nn.Conv1d(in_channels=1, out_channels=self.in_c, kernel_size=10, stride=5),\n",
    "                                     nn.Dropout(p=dropout),\n",
    "                                     nn.GroupNorm(1, self.in_c),  # Affine, what to do?\n",
    "                                     activation,\n",
    "                                     # 2nd layer\n",
    "                                     nn.Conv1d(in_channels=self.in_c, out_channels=self.in_c, kernel_size=8, stride=4),\n",
    "                                     nn.Dropout(p=dropout),\n",
    "                                     ## See norm_block - FB_repo\n",
    "                                     nn.GroupNorm(1, self.in_c),  # Affine, what to do?\n",
    "                                     activation,\n",
    "                                     # 3rd layer\n",
    "                                     nn.Conv1d(in_channels=self.in_c, out_channels=self.in_c, kernel_size=4, stride=2),\n",
    "                                     nn.Dropout(p=dropout),\n",
    "                                     nn.GroupNorm(1, self.in_c),  # Affine, what to do?\n",
    "                                     activation,\n",
    "                                     # Fourth layer\n",
    "                                     nn.Conv1d(in_channels=self.in_c, out_channels=self.in_c, kernel_size=4, stride=2),\n",
    "                                     nn.Dropout(p=dropout),\n",
    "                                     nn.GroupNorm(1, self.in_c),  # Affine, what to do?\n",
    "                                     activation,\n",
    "                                     # Fifth layer\n",
    "                                     nn.Conv1d(in_channels=self.in_c, out_channels=self.in_c, kernel_size=4, stride=2),\n",
    "                                     nn.Dropout(p=dropout),\n",
    "                                     nn.GroupNorm(1, self.in_c),  # Affine, what to do?\n",
    "                                     activation)\n",
    "    def log_compression(self, x):\n",
    "        # https://www.edn.com/log-1-x-compression/\n",
    "        x = x.abs()\n",
    "        x = x + 1\n",
    "        return x.log()\n",
    "\n",
    "    def forward(self, x):\n",
    "        x = self.encoder(x)\n",
    "        x = self.log_compression(x)\n",
    "        # TODO implement skipped connections?\n",
    "        return x"
   ]
  },
  {
   "cell_type": "code",
   "execution_count": 51,
   "metadata": {},
   "outputs": [],
   "source": [
    "waveform, sample_rate = torchaudio.load(\"wav_16k_example.wav\")"
   ]
  },
  {
   "cell_type": "code",
   "execution_count": 52,
   "metadata": {},
   "outputs": [
    {
     "data": {
      "text/plain": [
       "torch.Size([1, 1, 31440])"
      ]
     },
     "execution_count": 52,
     "metadata": {},
     "output_type": "execute_result"
    }
   ],
   "source": [
    "torch.unsqueeze(waveform, 1).shape"
   ]
  },
  {
   "cell_type": "code",
   "execution_count": 53,
   "metadata": {},
   "outputs": [
    {
     "data": {
      "text/plain": [
       "tensor([[[0.0000, 0.0000, 0.0000,  ..., 0.0000, 0.0000, 0.0000],\n",
       "         [0.6562, 0.6167, 0.6604,  ..., 0.6695, 0.6726, 0.6344],\n",
       "         [0.0000, 0.0000, 0.0000,  ..., 0.0000, 0.0000, 0.0000],\n",
       "         ...,\n",
       "         [0.8062, 0.8101, 0.8068,  ..., 0.8020, 0.7977, 0.8037],\n",
       "         [0.1249, 0.1496, 0.1190,  ..., 0.1110, 0.1435, 0.1550],\n",
       "         [0.0000, 0.0000, 0.0000,  ..., 0.0000, 0.0000, 0.0000]]],\n",
       "       grad_fn=<LogBackward>)"
      ]
     },
     "execution_count": 53,
     "metadata": {},
     "output_type": "execute_result"
    }
   ],
   "source": [
    "m = Wav2vec()\n",
    "m(waveform.unsqueeze(1))"
   ]
  },
  {
   "cell_type": "code",
   "execution_count": null,
   "metadata": {},
   "outputs": [],
   "source": []
  },
  {
   "cell_type": "code",
   "execution_count": null,
   "metadata": {},
   "outputs": [],
   "source": []
  }
 ],
 "metadata": {
  "kernelspec": {
   "display_name": "Python 3",
   "language": "python",
   "name": "python3"
  },
  "language_info": {
   "codemirror_mode": {
    "name": "ipython",
    "version": 3
   },
   "file_extension": ".py",
   "mimetype": "text/x-python",
   "name": "python",
   "nbconvert_exporter": "python",
   "pygments_lexer": "ipython3",
   "version": "3.7.6"
  },
  "toc": {
   "base_numbering": 1,
   "nav_menu": {},
   "number_sections": true,
   "sideBar": true,
   "skip_h1_title": false,
   "title_cell": "Table of Contents",
   "title_sidebar": "Contents",
   "toc_cell": false,
   "toc_position": {},
   "toc_section_display": true,
   "toc_window_display": true
  }
 },
 "nbformat": 4,
 "nbformat_minor": 4
}
