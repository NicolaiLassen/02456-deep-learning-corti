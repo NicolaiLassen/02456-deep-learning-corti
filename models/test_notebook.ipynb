{
 "cells": [
  {
   "cell_type": "code",
   "execution_count": 1,
   "metadata": {},
   "outputs": [],
   "source": [
    "import torch.nn as nn\n",
    "import torch.nn.functional as F\n",
    "import torchaudio\n",
    "import torch"
   ]
  },
  {
   "cell_type": "code",
   "execution_count": 73,
   "metadata": {},
   "outputs": [],
   "source": [
    "class Wav2vec(nn.Module):\n",
    "\n",
    "    def __init__(self):\n",
    "        super(Wav2vec, self).__init__()\n",
    "        # 1 input image channel, 6 output channels, 3x3 square convolution\n",
    "        # kernel\n",
    "        activation = nn.ReLU()\n",
    "        dropout = 0.0\n",
    "        self.encoder = Encoder()\n",
    "        self.context = Context(10,10,3,0.5,nn.ReLU())\n",
    "\n",
    "    def forward(self, x):\n",
    "        z = self.encoder(x)\n",
    "        c = self.context(z)\n",
    "        # x = x.view(-1, self.num_flat_features(x))\n",
    "        return z, c\n",
    "    \n",
    "class Encoder(nn.Module):\n",
    "    def __init__(self):\n",
    "        super(Encoder, self).__init__()\n",
    "        dropout=0.0\n",
    "        self.in_c = 10\n",
    "        activation = nn.ReLU()\n",
    "        self.encoder = nn.Sequential(nn.Conv1d(in_channels=1, out_channels=self.in_c, kernel_size=10, stride=5),\n",
    "                                     nn.Dropout(p=dropout),\n",
    "                                     nn.GroupNorm(1, self.in_c),  # Affine, what to do?\n",
    "                                     activation,\n",
    "                                     # 2nd layer\n",
    "                                     nn.Conv1d(in_channels=self.in_c, out_channels=self.in_c, kernel_size=8, stride=4),\n",
    "                                     nn.Dropout(p=dropout),\n",
    "                                     ## See norm_block - FB_repo\n",
    "                                     nn.GroupNorm(1, self.in_c),  # Affine, what to do?\n",
    "                                     activation,\n",
    "                                     # 3rd layer\n",
    "                                     nn.Conv1d(in_channels=self.in_c, out_channels=self.in_c, kernel_size=4, stride=2),\n",
    "                                     nn.Dropout(p=dropout),\n",
    "                                     nn.GroupNorm(1, self.in_c),  # Affine, what to do?\n",
    "                                     activation,\n",
    "                                     # Fourth layer\n",
    "                                     nn.Conv1d(in_channels=self.in_c, out_channels=self.in_c, kernel_size=4, stride=2),\n",
    "                                     nn.Dropout(p=dropout),\n",
    "                                     nn.GroupNorm(1, self.in_c),  # Affine, what to do?\n",
    "                                     activation,\n",
    "                                     # Fifth layer\n",
    "                                     nn.Conv1d(in_channels=self.in_c, out_channels=self.in_c, kernel_size=4, stride=2),\n",
    "                                     nn.Dropout(p=dropout),\n",
    "                                     nn.GroupNorm(1, self.in_c),  # Affine, what to do?\n",
    "                                     activation)\n",
    "    def log_compression(self, x):\n",
    "        # https://www.edn.com/log-1-x-compression/\n",
    "        x = x.abs()\n",
    "        x = x + 1\n",
    "        return x.log()\n",
    "\n",
    "    def forward(self, x):\n",
    "        x = self.encoder(x)\n",
    "        x = self.log_compression(x)\n",
    "        # TODO implement skipped connections?\n",
    "        return x\n"
   ]
  },
  {
   "cell_type": "code",
   "execution_count": 74,
   "metadata": {},
   "outputs": [],
   "source": [
    "waveform, sample_rate = torchaudio.load(\"wav_16k_example.wav\")"
   ]
  },
  {
   "cell_type": "code",
   "execution_count": 75,
   "metadata": {},
   "outputs": [
    {
     "data": {
      "text/plain": [
       "torch.Size([1, 1, 31440])"
      ]
     },
     "execution_count": 75,
     "metadata": {},
     "output_type": "execute_result"
    }
   ],
   "source": [
    "torch.unsqueeze(waveform, 1).shape"
   ]
  },
  {
   "cell_type": "code",
   "execution_count": 78,
   "metadata": {},
   "outputs": [],
   "source": [
    "m = Wav2vec()\n",
    "a,b = m(waveform.unsqueeze(1))"
   ]
  },
  {
   "cell_type": "code",
   "execution_count": 79,
   "metadata": {},
   "outputs": [
    {
     "name": "stdout",
     "output_type": "stream",
     "text": [
      "torch.Size([1, 10, 194])\n",
      "torch.Size([1, 10, 184])\n"
     ]
    }
   ],
   "source": [
    "print(a.shape)\n",
    "print(b.shape)"
   ]
  },
  {
   "cell_type": "code",
   "execution_count": 71,
   "metadata": {},
   "outputs": [],
   "source": [
    "class Context(nn.Module):\n",
    "    def __init__(self, n_in, n_out, k,dropout, activation, layers=5):\n",
    "        super(Context, self).__init__()\n",
    "\n",
    "        def conv_block(n_in, n_out, k, dropout, activation):\n",
    "            return nn.Sequential(\n",
    "                nn.Conv1d(n_in, n_out, k),\n",
    "                nn.Dropout(p=dropout),\n",
    "                nn.GroupNorm(1, n_out),\n",
    "                activation\n",
    "            )\n",
    "\n",
    "        self.conv = nn.ModuleList()\n",
    "        for i in range(0, layers):\n",
    "            self.conv.append(conv_block(n_in, n_out, k, dropout, activation))\n",
    "        self.conv = nn.Sequential(*self.conv)\n",
    "\n",
    "    def forward(self, x):\n",
    "        return self.conv(x)"
   ]
  },
  {
   "cell_type": "code",
   "execution_count": 64,
   "metadata": {},
   "outputs": [],
   "source": [
    "c = Context(10,10,3,0.5,nn.ReLU())"
   ]
  },
  {
   "cell_type": "code",
   "execution_count": 65,
   "metadata": {},
   "outputs": [
    {
     "data": {
      "text/plain": [
       "torch.Size([1, 10, 184])"
      ]
     },
     "execution_count": 65,
     "metadata": {},
     "output_type": "execute_result"
    }
   ],
   "source": [
    "c(a).shape"
   ]
  },
  {
   "cell_type": "code",
   "execution_count": null,
   "metadata": {},
   "outputs": [],
   "source": []
  }
 ],
 "metadata": {
  "kernelspec": {
   "display_name": "Python 3",
   "language": "python",
   "name": "python3"
  },
  "language_info": {
   "codemirror_mode": {
    "name": "ipython",
    "version": 3
   },
   "file_extension": ".py",
   "mimetype": "text/x-python",
   "name": "python",
   "nbconvert_exporter": "python",
   "pygments_lexer": "ipython3",
   "version": "3.7.6"
  },
  "toc": {
   "base_numbering": 1,
   "nav_menu": {},
   "number_sections": true,
   "sideBar": true,
   "skip_h1_title": false,
   "title_cell": "Table of Contents",
   "title_sidebar": "Contents",
   "toc_cell": false,
   "toc_position": {
    "height": "calc(100% - 180px)",
    "left": "10px",
    "top": "150px",
    "width": "165px"
   },
   "toc_section_display": true,
   "toc_window_display": true
  }
 },
 "nbformat": 4,
 "nbformat_minor": 4
}
