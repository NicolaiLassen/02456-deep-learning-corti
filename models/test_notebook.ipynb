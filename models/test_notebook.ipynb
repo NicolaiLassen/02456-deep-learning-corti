{
 "cells": [
  {
   "cell_type": "code",
   "execution_count": 1,
   "metadata": {},
   "outputs": [],
   "source": [
    "import torch.nn as nn\n",
    "import torch.nn.functional as F\n",
    "import torchaudio\n",
    "import torch"
   ]
  },
  {
   "cell_type": "code",
   "execution_count": 35,
   "metadata": {},
   "outputs": [],
   "source": [
    "class Wav2vec(nn.Module):\n",
    "\n",
    "    def __init__(self):\n",
    "        super(Wav2vec, self).__init__()\n",
    "        # 1 input image channel, 6 output channels, 3x3 square convolution\n",
    "        # kernel\n",
    "        activation = nn.ReLU()\n",
    "        dropout = 0.0\n",
    "        self.encoder = Encoder()\n",
    "        self.context = Context(10,10,3)\n",
    "\n",
    "    def forward(self, x):\n",
    "        z = self.encoder(x)\n",
    "        #c = self.context(x)\n",
    "        # x = x.view(-1, self.num_flat_features(x))\n",
    "        return z#, c\n",
    "    \n",
    "class Encoder(nn.Module):\n",
    "    def __init__(self):\n",
    "        super(Encoder, self).__init__()\n",
    "        dropout=0.0\n",
    "        self.in_c = 10\n",
    "        activation = nn.ReLU()\n",
    "        self.encoder = nn.Sequential(nn.Conv1d(in_channels=1, out_channels=self.in_c, kernel_size=10, stride=5),\n",
    "                                     nn.Dropout(p=dropout),\n",
    "                                     nn.GroupNorm(1, self.in_c),  # Affine, what to do?\n",
    "                                     activation,\n",
    "                                     # 2nd layer\n",
    "                                     nn.Conv1d(in_channels=self.in_c, out_channels=self.in_c, kernel_size=8, stride=4),\n",
    "                                     nn.Dropout(p=dropout),\n",
    "                                     ## See norm_block - FB_repo\n",
    "                                     nn.GroupNorm(1, self.in_c),  # Affine, what to do?\n",
    "                                     activation,\n",
    "                                     # 3rd layer\n",
    "                                     nn.Conv1d(in_channels=self.in_c, out_channels=self.in_c, kernel_size=4, stride=2),\n",
    "                                     nn.Dropout(p=dropout),\n",
    "                                     nn.GroupNorm(1, self.in_c),  # Affine, what to do?\n",
    "                                     activation,\n",
    "                                     # Fourth layer\n",
    "                                     nn.Conv1d(in_channels=self.in_c, out_channels=self.in_c, kernel_size=4, stride=2),\n",
    "                                     nn.Dropout(p=dropout),\n",
    "                                     nn.GroupNorm(1, self.in_c),  # Affine, what to do?\n",
    "                                     activation,\n",
    "                                     # Fifth layer\n",
    "                                     nn.Conv1d(in_channels=self.in_c, out_channels=self.in_c, kernel_size=4, stride=2),\n",
    "                                     nn.Dropout(p=dropout),\n",
    "                                     nn.GroupNorm(1, self.in_c),  # Affine, what to do?\n",
    "                                     activation)\n",
    "    def log_compression(self, x):\n",
    "        # https://www.edn.com/log-1-x-compression/\n",
    "        x = x.abs()\n",
    "        x = x + 1\n",
    "        return x.log()\n",
    "\n",
    "    def forward(self, x):\n",
    "        x = self.encoder(x)\n",
    "        x = self.log_compression(x)\n",
    "        # TODO implement skipped connections?\n",
    "        return x\n",
    "\n",
    "class Context(nn.Module):\n",
    "    def __init__(self, n_in, n_out, k,dropout, activation, layers=5):\n",
    "        super(Context, self).__init__()\n",
    "\n",
    "        def conv_block(n_in, n_out, k, dropout, activation):\n",
    "            return nn.Sequential(\n",
    "                nn.Conv1d(n_in, n_out, k),\n",
    "                nn.Dropout(p=dropout),\n",
    "                nn.GroupNorm(1, n_out),\n",
    "                activation\n",
    "            )\n",
    "\n",
    "        self.conv = nn.ModuleList()\n",
    "        for i in range(0, layers):\n",
    "            self.conv.append(conv_block(n_in, n_out, k, dropout, activation))\n",
    "        self.conv = nn.Sequential(*self.conv)\n",
    "\n",
    "    def forward(self, x):\n",
    "        return self.conv(x)\n"
   ]
  },
  {
   "cell_type": "code",
   "execution_count": 36,
   "metadata": {},
   "outputs": [],
   "source": [
    "waveform, sample_rate = torchaudio.load(\"wav_16k_example.wav\")"
   ]
  },
  {
   "cell_type": "code",
   "execution_count": 37,
   "metadata": {},
   "outputs": [
    {
     "data": {
      "text/plain": [
       "torch.Size([1, 1, 31440])"
      ]
     },
     "execution_count": 37,
     "metadata": {},
     "output_type": "execute_result"
    }
   ],
   "source": [
    "torch.unsqueeze(waveform, 1).shape"
   ]
  },
  {
   "cell_type": "code",
   "execution_count": 38,
   "metadata": {},
   "outputs": [
    {
     "ename": "TypeError",
     "evalue": "__init__() missing 4 required positional arguments: 'n_in', 'n_out', 'dropout', and 'activation'",
     "output_type": "error",
     "traceback": [
      "\u001b[0;31m---------------------------------------------------------------------------\u001b[0m",
      "\u001b[0;31mTypeError\u001b[0m                                 Traceback (most recent call last)",
      "\u001b[0;32m<ipython-input-38-6d7721a5e242>\u001b[0m in \u001b[0;36m<module>\u001b[0;34m\u001b[0m\n\u001b[0;32m----> 1\u001b[0;31m \u001b[0mm\u001b[0m \u001b[0;34m=\u001b[0m \u001b[0mWav2vec\u001b[0m\u001b[0;34m(\u001b[0m\u001b[0;34m)\u001b[0m\u001b[0;34m\u001b[0m\u001b[0;34m\u001b[0m\u001b[0m\n\u001b[0m\u001b[1;32m      2\u001b[0m \u001b[0mm\u001b[0m\u001b[0;34m(\u001b[0m\u001b[0mwaveform\u001b[0m\u001b[0;34m.\u001b[0m\u001b[0munsqueeze\u001b[0m\u001b[0;34m(\u001b[0m\u001b[0;36m1\u001b[0m\u001b[0;34m)\u001b[0m\u001b[0;34m)\u001b[0m\u001b[0;34m\u001b[0m\u001b[0;34m\u001b[0m\u001b[0m\n",
      "\u001b[0;32m<ipython-input-35-cd098f9beef0>\u001b[0m in \u001b[0;36m__init__\u001b[0;34m(self)\u001b[0m\n\u001b[1;32m      8\u001b[0m         \u001b[0mdropout\u001b[0m \u001b[0;34m=\u001b[0m \u001b[0;36m0.0\u001b[0m\u001b[0;34m\u001b[0m\u001b[0;34m\u001b[0m\u001b[0m\n\u001b[1;32m      9\u001b[0m         \u001b[0mself\u001b[0m\u001b[0;34m.\u001b[0m\u001b[0mencoder\u001b[0m \u001b[0;34m=\u001b[0m \u001b[0mEncoder\u001b[0m\u001b[0;34m(\u001b[0m\u001b[0;34m)\u001b[0m\u001b[0;34m\u001b[0m\u001b[0;34m\u001b[0m\u001b[0m\n\u001b[0;32m---> 10\u001b[0;31m         \u001b[0mself\u001b[0m\u001b[0;34m.\u001b[0m\u001b[0mcontext\u001b[0m \u001b[0;34m=\u001b[0m \u001b[0mContext\u001b[0m\u001b[0;34m(\u001b[0m\u001b[0;34m)\u001b[0m\u001b[0;34m\u001b[0m\u001b[0;34m\u001b[0m\u001b[0m\n\u001b[0m\u001b[1;32m     11\u001b[0m \u001b[0;34m\u001b[0m\u001b[0m\n\u001b[1;32m     12\u001b[0m     \u001b[0;32mdef\u001b[0m \u001b[0mforward\u001b[0m\u001b[0;34m(\u001b[0m\u001b[0mself\u001b[0m\u001b[0;34m,\u001b[0m \u001b[0mx\u001b[0m\u001b[0;34m)\u001b[0m\u001b[0;34m:\u001b[0m\u001b[0;34m\u001b[0m\u001b[0;34m\u001b[0m\u001b[0m\n",
      "\u001b[0;31mTypeError\u001b[0m: __init__() missing 4 required positional arguments: 'n_in', 'n_out', 'dropout', and 'activation'"
     ]
    }
   ],
   "source": [
    "m = Wav2vec()\n",
    "m(waveform.unsqueeze(1))"
   ]
  },
  {
   "cell_type": "code",
   "execution_count": 3,
   "metadata": {},
   "outputs": [],
   "source": [
    "a = nn.ModuleList()"
   ]
  },
  {
   "cell_type": "code",
   "execution_count": 6,
   "metadata": {},
   "outputs": [
    {
     "data": {
      "text/plain": [
       "ModuleList(\n",
       "  (0): Conv1d(5, 5, kernel_size=(5,), stride=(1,))\n",
       ")"
      ]
     },
     "execution_count": 6,
     "metadata": {},
     "output_type": "execute_result"
    }
   ],
   "source": [
    "a.append(nn.Conv1d(5,5,5))"
   ]
  },
  {
   "cell_type": "code",
   "execution_count": 8,
   "metadata": {},
   "outputs": [
    {
     "data": {
      "text/plain": [
       "Sequential(\n",
       "  (0): Conv1d(5, 5, kernel_size=(5,), stride=(1,))\n",
       ")"
      ]
     },
     "execution_count": 8,
     "metadata": {},
     "output_type": "execute_result"
    }
   ],
   "source": [
    "nn.Sequential(*a)"
   ]
  },
  {
   "cell_type": "code",
   "execution_count": 17,
   "metadata": {},
   "outputs": [],
   "source": [
    "def conv_block(n_in, n_out, k, dropout, activation): \n",
    "            return nn.Sequential(\n",
    "                nn.Conv1d(n_in, n_out, k),\n",
    "                nn.Dropout(p=dropout),\n",
    "                nn.GroupNorm(1, n_out), \n",
    "                activation\n",
    "            )"
   ]
  },
  {
   "cell_type": "code",
   "execution_count": 20,
   "metadata": {},
   "outputs": [],
   "source": [
    "layers = n_in = n_out = k =5\n",
    "dropout = 0.5\n",
    "activation = nn.ReLU()\n",
    "conv = nn.ModuleList()\n",
    "for i in range(0, layers): \n",
    "    conv.append(conv_block(n_in, n_out, k, dropout, activation))\n",
    "conv = nn.Sequential(*conv)\n",
    "            "
   ]
  },
  {
   "cell_type": "code",
   "execution_count": 21,
   "metadata": {
    "collapsed": true
   },
   "outputs": [
    {
     "data": {
      "text/plain": [
       "Sequential(\n",
       "  (0): Sequential(\n",
       "    (0): Conv1d(5, 5, kernel_size=(5,), stride=(1,))\n",
       "    (1): Dropout(p=0.5, inplace=False)\n",
       "    (2): GroupNorm(1, 5, eps=1e-05, affine=True)\n",
       "    (3): ReLU()\n",
       "  )\n",
       "  (1): Sequential(\n",
       "    (0): Conv1d(5, 5, kernel_size=(5,), stride=(1,))\n",
       "    (1): Dropout(p=0.5, inplace=False)\n",
       "    (2): GroupNorm(1, 5, eps=1e-05, affine=True)\n",
       "    (3): ReLU()\n",
       "  )\n",
       "  (2): Sequential(\n",
       "    (0): Conv1d(5, 5, kernel_size=(5,), stride=(1,))\n",
       "    (1): Dropout(p=0.5, inplace=False)\n",
       "    (2): GroupNorm(1, 5, eps=1e-05, affine=True)\n",
       "    (3): ReLU()\n",
       "  )\n",
       "  (3): Sequential(\n",
       "    (0): Conv1d(5, 5, kernel_size=(5,), stride=(1,))\n",
       "    (1): Dropout(p=0.5, inplace=False)\n",
       "    (2): GroupNorm(1, 5, eps=1e-05, affine=True)\n",
       "    (3): ReLU()\n",
       "  )\n",
       "  (4): Sequential(\n",
       "    (0): Conv1d(5, 5, kernel_size=(5,), stride=(1,))\n",
       "    (1): Dropout(p=0.5, inplace=False)\n",
       "    (2): GroupNorm(1, 5, eps=1e-05, affine=True)\n",
       "    (3): ReLU()\n",
       "  )\n",
       ")"
      ]
     },
     "execution_count": 21,
     "metadata": {},
     "output_type": "execute_result"
    }
   ],
   "source": [
    "conv"
   ]
  },
  {
   "cell_type": "code",
   "execution_count": null,
   "metadata": {},
   "outputs": [],
   "source": []
  }
 ],
 "metadata": {
  "kernelspec": {
   "display_name": "Python 3",
   "language": "python",
   "name": "python3"
  },
  "language_info": {
   "codemirror_mode": {
    "name": "ipython",
    "version": 3
   },
   "file_extension": ".py",
   "mimetype": "text/x-python",
   "name": "python",
   "nbconvert_exporter": "python",
   "pygments_lexer": "ipython3",
   "version": "3.7.6"
  },
  "toc": {
   "base_numbering": 1,
   "nav_menu": {},
   "number_sections": true,
   "sideBar": true,
   "skip_h1_title": false,
   "title_cell": "Table of Contents",
   "title_sidebar": "Contents",
   "toc_cell": false,
   "toc_position": {
    "height": "calc(100% - 180px)",
    "left": "10px",
    "top": "150px",
    "width": "165px"
   },
   "toc_section_display": true,
   "toc_window_display": true
  }
 },
 "nbformat": 4,
 "nbformat_minor": 4
}
